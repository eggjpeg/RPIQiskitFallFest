{
 "cells": [
  {
   "cell_type": "markdown",
   "id": "0c83cb03-a2ab-4051-a03f-90c208a8a4ea",
   "metadata": {
    "tags": []
   },
   "source": [
    "# Qiskit Fall Fest 2023\n",
    "\n",
    "![QFF Logo](images/QFF-logo.png)\n",
    "\n",
    "## Lab C: The Quantum Enigmas 001\n",
    "\n",
    "- Difficulty: 2/5\n",
    "\n",
    "- Estimated Time: 60 Minutes"
   ]
  },
  {
   "cell_type": "markdown",
   "id": "d3b8ad4e-5959-4e54-b806-f1f3da4e22ac",
   "metadata": {},
   "source": [
    "Hi there and welcome to the **Qiskit Fall Fest**! \n",
    "\n",
    "As part of the Qiskit Fall Fest, IBM Quantum has created a series of coding challenges for you to work through. We like to call these \"labs.\" Each lab centers on a different topic. Each lab also has a difficulty, and an estimated time, which you can find in the cell above.\n",
    "\n",
    "There are dozens of different schools participating in the Fall Fest. You're part of a global event that has thousands of students learning about quantum computing. Congrats! Whether you're a beginner or a veteran, we hope you enjoy the Qiskit Fall Fest! We're glad you're here."
   ]
  },
  {
   "cell_type": "markdown",
   "id": "0daf9080-e074-4a44-ac20-327414e5effb",
   "metadata": {},
   "source": [
    "This lab is based on the Quantum Enigmas YouTube series, produced by the Institut Quantique at Sherbrooke University. **[Please watch video 001](https://www.youtube.com/watch?v=c1beJIg8lRs) in the Quantum Enigmas series.** This lab will be confusing to follow if you haven't already watched the video!\n",
    "\n",
    "![QE Logo](images/qe-logo.png)\n",
    "\n",
    "### Click here to watch ---> [Quantum Enigmas Episode 001](https://www.youtube.com/watch?v=c1beJIg8lRs)\n",
    "\n",
    "After you've watched the video, proceed to Part 1"
   ]
  },
  {
   "cell_type": "markdown",
   "id": "0a909b0a-0b2b-46cc-8fb9-75459d6c2a96",
   "metadata": {},
   "source": [
    "# Part 1: Starting the Circuit"
   ]
  },
  {
   "cell_type": "markdown",
   "id": "df6748c4-c175-4436-ad42-b4fdcd873de1",
   "metadata": {},
   "source": [
    "To repeat the core parts of the video -- there are two doors to choose from. One is correct, one is wrong. There's a Guardian next to each door, but one Guardian only tells the truth, while the other one only lies. We have no way of knowing which is which. Our job is to ask only one question to only one guardian and figure out which door is the correct door. \n",
    "\n",
    "In the video we saw how to translate the enigma of the two Guardians into a quantum circuit. Using Qiskit, let's build that circuit from the ground up and bring the enigma to life.\n",
    "\n",
    "We saw that the circuit contains three qubits, one representing the first Guardian on the right, one representing the second Guardian on the left, and one qubit representing the \"lie\" that gets told. We don't know whether Guardian 1 or 2 is lying to us, so we use that third qubit as a way to perform operations *with each Guardian* to ensure we don't get caught in the lie. \n",
    "\n",
    "To start, we put the first Guardian into a superposition (using a Hadamard gate) then entangled the two Guardians so they shared the information (using a CNOT gate). We also put the lie qubit into superposition. Our circuit should look like this:\n",
    "\n",
    "![Circuit 1](images/enigmas-circuit-1.png)\n",
    "\n",
    "In the code block below, we're made a new quantum circuit with 3 qubits and 3 classical bits. It is your job to build the circuit to match the above picture."
   ]
  },
  {
   "cell_type": "markdown",
   "id": "c3bcbd29-6543-42b6-bc71-7c5c23c3836d",
   "metadata": {},
   "source": [
    "### Exercise 1\n",
    "\n",
    "In the code below, apply an H gate to qubit 0, an H gate to qubit 2, and a CNOT gate between qubits 0 and 1"
   ]
  },
  {
   "cell_type": "code",
   "execution_count": null,
   "id": "363f553f-e218-48c3-bdd6-f8670dbe86c3",
   "metadata": {
    "tags": []
   },
   "outputs": [],
   "source": [
    "from qiskit import QuantumCircuit\n",
    "\n",
    "qc = QuantumCircuit(3, 3)\n",
    "\n",
    "\n",
    "## Write your code below this line ##\n",
    "\n",
    "qc.h(0)\n",
    "qc.h(2)\n",
    "qc.cx(0, 1)\n",
    "\n",
    "## Do not change the code below here ##\n",
    "\n",
    "answer1 = qc\n",
    "qc.draw()"
   ]
  },
  {
   "cell_type": "code",
   "execution_count": null,
   "id": "0410a7d8-1ce1-4d1f-b78b-486886a8ab65",
   "metadata": {
    "tags": []
   },
   "outputs": [],
   "source": [
    "# Grader Cell: Run this to submit your answer\n",
    "from qc_grader.challenges.fall_fest23 import grade_ex3a\n",
    "\n",
    "grade_ex3a(answer1)"
   ]
  },
  {
   "cell_type": "code",
   "execution_count": null,
   "id": "5f81f562-fa5c-42fb-b4da-ea1408179fc1",
   "metadata": {},
   "outputs": [],
   "source": [
    "# Grader for qc-grader repo https://github.com/qiskit-community/Quantum-Challenge-Grader/tree/main\n",
    "from qiskit.circuit import QuantumCircuit\n",
    "\n",
    "@typechecked\n",
    "def grade_ex3a(answer1: QuantumCircuit) -> None:\n",
    "    grade(answer1, 'ex3a', _challenge_id)"
   ]
  },
  {
   "cell_type": "code",
   "execution_count": null,
   "id": "84ae37b2-9a96-4f18-90cf-b70dc5489112",
   "metadata": {},
   "outputs": [],
   "source": [
    "# Grader for qac-grader repo https://github.ibm.com/IBM-Q-Software/qac-grading\n",
    "from qiskit.quantum_info import Statevector\n",
    "from qiskit.circuit import QuantumCircuit\n",
    "\n",
    "@validation_function('ex3a')\n",
    "def grade_ex3a_validation(\n",
    "    answer1: QuantumCircuit\n",
    ") -> ValidationResult:\n",
    "    logger.info('Validating exercise 3a')\n",
    "    \n",
    "    if not answer1.num_qubits == 3:\n",
    "        return False, ('Circuit output does not match expected output with '\n",
    "                       'respect to the number of qubits.')\n",
    "    \n",
    "    test = QuantumCircuit(3)\n",
    "    test.h(0)\n",
    "    test.h(2)\n",
    "    test.cx(0,1)\n",
    "    \n",
    "    if Statevector.from_instruction(test).equiv(Statevector.from_instruction(answer1), rtol=1e-03, atol=1e-05):\n",
    "        return True, None\n",
    "    return False, (\"Circuit submitted does not match expected circuit\")"
   ]
  },
  {
   "cell_type": "markdown",
   "id": "7721c9a8-cc1d-4db5-b0fc-48dc93d63fef",
   "metadata": {},
   "source": [
    "Nice job! \n",
    "\n",
    "We're going to build this circuit in pieces, then construct the full thing at the very end. Now that we have our Guardians and the lie qubit initialized, it's time to build the part of the circuit which accounts for the lie. We need to build a process which will evaluate if a guardian is lying, and then flip their answer if that's the case. We do *not* want to flip their answer if there is no lie detected. \n",
    "\n",
    "As a reminder, the lie qubit's measurement is how we know who is lying. When the lie qubit is measured as a 0, the **right** Guardian is lying. When the lie qubit is measured as a 1, the **left** Guardian is lying. But with our lie qubit in a superposition, we won't know who is lying until the end, so we need to build a process for each Guardian.\n",
    "\n",
    "![Circuit 2](images/enigmas-circuit-2.png)"
   ]
  },
  {
   "cell_type": "markdown",
   "id": "2f212a5f-6c94-4fa2-9fe8-212851470a9c",
   "metadata": {},
   "source": [
    "### Exercise 2\n",
    "\n",
    "We only want to build the 2nd part of the circuit now, everything that appears to the right of the vertical dashed line (which we call a barrier). **You do not need to re-create the first part of the circuit.**\n",
    "\n",
    "In the code block below, recreate the new part of the circuit you see above. Remember that the order in which you list the qubits within a CNOT gate matter! "
   ]
  },
  {
   "cell_type": "code",
   "execution_count": null,
   "id": "9681ffeb-eddf-4b18-818a-846ffd59fd0b",
   "metadata": {
    "tags": []
   },
   "outputs": [],
   "source": [
    "from qiskit import QuantumCircuit\n",
    "\n",
    "qc = QuantumCircuit(3, 3)\n",
    "\n",
    "qc.barrier(0, 1, 2)\n",
    "\n",
    "## Write your code below this line ## \n",
    "\n",
    "qc.cx(2, 1)\n",
    "qc.x(2)\n",
    "qc.cx(2, 0)\n",
    "qc.x(2)\n",
    "\n",
    "## Do not change the code below this line ##\n",
    "\n",
    "answer2 = qc\n",
    "qc.draw()"
   ]
  },
  {
   "cell_type": "code",
   "execution_count": null,
   "id": "2fa1f0a6-e811-44a0-b02f-c55b507f5e9b",
   "metadata": {},
   "outputs": [],
   "source": [
    "# Grader Cell: Run this to submit your answer\n",
    "\n",
    "from qc_grader.challenges.fall_fest23 import grade_ex3b\n",
    "\n",
    "grade_ex3b(answer2)"
   ]
  },
  {
   "cell_type": "code",
   "execution_count": null,
   "id": "3003ede3-490b-4458-b098-708ceac98965",
   "metadata": {},
   "outputs": [],
   "source": [
    "# Grader for qc-grader repo https://github.com/qiskit-community/Quantum-Challenge-Grader/tree/main\n",
    "from qiskit.circuit import QuantumCircuit\n",
    "\n",
    "@typechecked\n",
    "def grade_ex3b(answer2: QuantumCircuit) -> None:\n",
    "    grade(answer1, 'ex3b', _challenge_id)"
   ]
  },
  {
   "cell_type": "code",
   "execution_count": null,
   "id": "e5508e06-5094-4d85-b935-8f98ad0b8b25",
   "metadata": {},
   "outputs": [],
   "source": [
    "# Grader for qac-grader repo https://github.ibm.com/IBM-Q-Software/qac-grading\n",
    "from qiskit.quantum_info import Statevector\n",
    "from qiskit.circuit import QuantumCircuit\n",
    "\n",
    "@validation_function('ex3b')\n",
    "def grade_ex3b_validation(\n",
    "    answer2: QuantumCircuit\n",
    ") -> ValidationResult:\n",
    "    logger.info('Validating exercise 3b')\n",
    "    \n",
    "    if not answer2.num_qubits == 3:\n",
    "        return False, ('Circuit output does not match expected output with '\n",
    "                       'respect to the number of qubits.')\n",
    "    \n",
    "    test = QuantumCircuit(3)\n",
    "    test.cx(2, 1)\n",
    "    test.x(2)\n",
    "    test.cx(2, 0)\n",
    "    test.x(2)\n",
    "    \n",
    "    if Statevector.from_instruction(test).equiv(Statevector.from_instruction(answer2), rtol=1e-03, atol=1e-05):\n",
    "        return True, None\n",
    "    return False, (\"Circuit submitted does not match expected circuit\")"
   ]
  },
  {
   "cell_type": "markdown",
   "id": "738a6e14-3cfd-4d6d-8f02-22c9cf55a5d0",
   "metadata": {},
   "source": [
    "# Part 2: The Truth Table"
   ]
  },
  {
   "cell_type": "markdown",
   "id": "44a4bb9e-bc5b-4112-888e-afc195ffc0ce",
   "metadata": {},
   "source": [
    "It's easy to lose track of what we're really doing when encoding a problem into a circuit. How do I remember which qubit is the Guardian? Or how do I know where the liar even is? In fact, what does the 0 or 1 even say at each step of the process? Does a 0 for the Guardian mean something different than a 0 for the \"lie\" qubit? \n",
    "\n",
    "In order to keep our bearings as we work through this problem, it's important to keep the facts straight. We're going to construct a truth table in order to do that. The table is filled with 0s and 1s, but we will add labels to help us quickly decipher what's going on.\n",
    "\n",
    "Some reminders first:\n",
    "- There are two Guardians represented by two qubits. `q[0]` is the Guardian on the right, while `q[1]` is the Guardian on the left\n",
    "- When either Guardian's qubit is measured as 0, that's them telling us to pick the door on the right\n",
    "- When either Guardian's qubit is measured as 1, that's them telling us to pick the door on the left\n",
    "- We also have a third qubit, `q[2]` which we call the lie qubit\n",
    "- When the lie qubit is measured as a 0, the right Guardian is lying\n",
    "- When the lie qubit is measured as a 1, the left Guardian is lying\n",
    "\n",
    "As a reminder, our circuit is only half-done at this point. So far we are setting up the problem, and asking the question \"which door is the treasure behind?\" That is *not* the same question we used in the video. This first half of the circuit is only about establishing which is the correct door. The second half of the circuit, which we'll build in Part 3, is where we ask the correct question. \n",
    "\n",
    "When we run the circuit, we have four possible current outcomes. Let's build a truth table to answer the question our circuit is currently asking: which door is the treasure behind? We'll start by using the qubit information, and display all four possible outcomes. Remember, 0 means right, 1 means left.\n",
    "\n",
    "| q[2] | q[1] | q[0] |\n",
    "|:---:|:---:|:---:|\n",
    "| 0 | 0 | 1 | \n",
    "| 1 | 1 | 0 |\n",
    "| 0 | 1 | 0 |\n",
    "| 1 | 0 | 1 |\n",
    "\n",
    "#### **That's really confusing!!** "
   ]
  },
  {
   "cell_type": "markdown",
   "id": "792ebc66-57fe-443e-8122-fa205c6a0ebb",
   "metadata": {},
   "source": [
    "### Side note about qubit ordering \n",
    "\n",
    "In the table above, why is the first qubit we use all the way at the right side of the table? \n",
    "\n",
    "Good question! Qiskit uses little-endian ordering, which is a fancy way of saying that the most significant bit on the left, and the least significant on the right. So if we are reading the results like binary, we would start at the right and move our way to the left.\n",
    "\n",
    "We do this on purpose. When you run an experiement and graph the results, they are presented in the same manner. Also, in this particular lab, it's helpful to know that \"the guard on the right\" is actually _on the right_ and the guard on the left is, similarly, _on the left._\n",
    "\n",
    "In Qiskit, the qubits are represented from the most significant bit (MSB) on the left to the least significant bit (LSB) on the right. This is similar to bitstring representation on classical computers, and enables easy conversion from bitstrings to integers after measurements are performed. Importantly, this change in the representation of multi-qubit states affects the way multi-qubit gates are represented in Qiskit."
   ]
  },
  {
   "cell_type": "markdown",
   "id": "bd11c7af-1ab4-48f3-894d-80778188f90f",
   "metadata": {},
   "source": [
    "To make our truth table make more sense, let's replace the qubit number with the information it's describing. And let's also add a letter key, which we can use to write a full description. Remember, 0 means right, 1 means left.\n",
    "\n",
    "| Who is Lying? | Guard on left says | Guard on right says | Description Letter |\n",
    "|:---:|:---:|:---:|:---:|\n",
    "| 0 | 0 | 1 | A |\n",
    "| 1 | 1 | 0 | B |\n",
    "| 0 | 1 | 0 | C |\n",
    "| 1 | 0 | 1 | D |\n",
    "\n",
    "Descriptions:\n",
    "- A: The treasure is on the right, and the Guard on the right is the liar\n",
    "- B: The treasure is on the right, and the Guard on the left is the liar\n",
    "- C: The treasure is on the left, and the Guard on the right is the liar\n",
    "- D: The treasure is on the left, and the Guard on the left is the liar\n",
    "\n",
    "Let's break down just the first possible outcome, description A.\n",
    "\n",
    "| Who is Lying? | Guard on left says | Guard on right says |\n",
    "|:---:|:---:|:---:|\n",
    "| 0 | 0 | 1 | \n",
    "\n",
    "The guard on the right is saying the treasure is behind the door on the left (`q[0] = 1`). The guard on the left is saying the treasure is behind the door on the right (`q[1] = 0`). But, the guard on the right is the liar (`q[2] = 0`). So if we know the guard on the right is the liar, and he's saying the treasure is behind the door on the left, then we **know** it must actually be behind the door on the right. We're using the lie qubit to give us an answer that we otherwise could not have known. "
   ]
  },
  {
   "cell_type": "markdown",
   "id": "6b66ed0c-3466-4ec2-a05c-ec5326d7a3f6",
   "metadata": {},
   "source": [
    "### Exercise 3c\n",
    "\n",
    "Now it's time to test your understanding of the truth table. Answer the quiz questions below by following the same rules we established in the truth table. "
   ]
  },
  {
   "cell_type": "code",
   "execution_count": null,
   "id": "447738eb-134f-4338-9811-0f6d92589c6a",
   "metadata": {},
   "outputs": [],
   "source": [
    "answer3: bool\n",
    "\n",
    "## Question One: evaluate this outcome from running your circuit and assess if the following statement is True or False\n",
    "\n",
    "q0 = 1\n",
    "q1 = 0\n",
    "q2 = 1\n",
    "\n",
    "## Based on this, is it TRUE or FALSE that the Guard on the left is a liar? \n",
    "## Assign your answer, either True or False, to answer3 below\n",
    "\n",
    "answer3 = True"
   ]
  },
  {
   "cell_type": "code",
   "execution_count": null,
   "id": "17b53a02-25c2-45c4-8e23-2cbca63c0e74",
   "metadata": {},
   "outputs": [],
   "source": [
    "from qc_grader.challenges.fall_fest23 import grade_ex3c\n",
    "\n",
    "grade_ex3c(answer3)"
   ]
  },
  {
   "cell_type": "markdown",
   "id": "d8a5c41a-d255-4b9f-82a9-169825e8e38d",
   "metadata": {},
   "source": [
    "### Grader logic"
   ]
  },
  {
   "cell_type": "code",
   "execution_count": null,
   "id": "fc432f76-bea8-4b1b-922f-974a54f743bf",
   "metadata": {},
   "outputs": [],
   "source": [
    "# Grader for qc-grader repo https://github.com/qiskit-community/Quantum-Challenge-Grader/tree/main\n",
    "\n",
    "@typechecked\n",
    "def grade_ex3c(answer3: bool) -> None:\n",
    "    grade(answer3, 'ex3c', _challenge_id)"
   ]
  },
  {
   "cell_type": "code",
   "execution_count": null,
   "id": "22896ef8-1e0e-48af-aa77-69b8726ee4f7",
   "metadata": {},
   "outputs": [],
   "source": [
    "# Grader for qac-grader repo https://github.ibm.com/IBM-Q-Software/qac-grading\n",
    "\n",
    "@validation_function('ex3c')\n",
    "def grade_ex3c_validation(\n",
    "    answer3: bool\n",
    ") -> ValidationResult:\n",
    "    logger.info('Validating exercise 3c')\n",
    "    \n",
    "    if not answer3 == True:\n",
    "        return False, (\"Answer submitted does not match expected answer\")\n",
    "    return True, None"
   ]
  },
  {
   "cell_type": "markdown",
   "id": "2998183f-045b-4edf-b383-3973dc1ef2d6",
   "metadata": {},
   "source": [
    "### Exercise 3d\n"
   ]
  },
  {
   "cell_type": "code",
   "execution_count": null,
   "id": "849323fb-2f39-4c29-a70b-c1022eafac45",
   "metadata": {
    "tags": []
   },
   "outputs": [],
   "source": [
    "## Question Two: Fill in the right numbers to make this statement true \n",
    "## The treasure is on the right, and the Guard on the left is the liar\n",
    "\n",
    "q0 = 0\n",
    "q1 = 1\n",
    "q2 = 1\n",
    "\n",
    "answer4 = [q0, q1, q2]"
   ]
  },
  {
   "cell_type": "code",
   "execution_count": null,
   "id": "b5575beb-d42c-47fa-aa2b-e705addf2b60",
   "metadata": {},
   "outputs": [],
   "source": [
    "# Grader Cell: Run this to submit your answer\n",
    "\n",
    "from qc_grader.challenges.fall_fest23 import grade_ex3d\n",
    "\n",
    "grade_ex3d(answer4)"
   ]
  },
  {
   "cell_type": "markdown",
   "id": "0cb1fb92-bf8c-49f1-82f0-c39b88bc0824",
   "metadata": {},
   "source": [
    "### Grader logic"
   ]
  },
  {
   "cell_type": "code",
   "execution_count": null,
   "id": "208d1945-7042-48ca-9e0c-4fbd7c57e420",
   "metadata": {},
   "outputs": [],
   "source": [
    "# Grader for qc-grader repo https://github.com/qiskit-community/Quantum-Challenge-Grader/tree/main\n",
    "\n",
    "@typechecked\n",
    "def grade_ex3d(answer4: bool) -> None:\n",
    "    grade(answer4, 'ex3d', _challenge_id)"
   ]
  },
  {
   "cell_type": "code",
   "execution_count": null,
   "id": "76dae399-9548-492f-81d4-a65af3172557",
   "metadata": {},
   "outputs": [],
   "source": [
    "# Grader for qac-grader repo https://github.ibm.com/IBM-Q-Software/qac-grading\n",
    "\n",
    "@validation_function('ex3d')\n",
    "def grade_ex3d_validation(\n",
    "    answer4: bool\n",
    ") -> ValidationResult:\n",
    "    logger.info('Validating exercise 3d')\n",
    "    \n",
    "    if not answer4 == [0,1,1]:\n",
    "        return False, (\"Answer submitted does not match expected answer\")\n",
    "    return True, None"
   ]
  },
  {
   "cell_type": "markdown",
   "id": "8e04c312-1307-46c7-9a41-ebd35d80e651",
   "metadata": {},
   "source": [
    "# Part 3: Finishing the Circuit"
   ]
  },
  {
   "cell_type": "markdown",
   "id": "fb449cfe-f64e-4d89-8fdf-181073b2dce9",
   "metadata": {},
   "source": [
    "In order to finish our circuit, we need to remember the proper question from the video. The question we're asking is \"which door would the other Guardian tell me **not** to open?\" This question is phrased this way very deliberately. It ensures that no matter which Guardian we ask, the truth-teller or the liar, they both will give the same answer, the *correct* answer. \n",
    "\n",
    "However, so far our circuit has not accounted for this at all. In order to accomplish this, we need to introduce a new gate, **the swap gate.** This one is very straightforward, The SWAP gate swaps the states of two qubits. We apply is by simply calling the method `swap(qubit1, qubit2)` on our quantum circuit.\n",
    "\n",
    "The SWAP gate looks similar to a CNOT, but instead of a circle on each end of the line, you see two X's. You can see it as the very first gate in the last part of our circuit that we need to construct.\n",
    "\n",
    "![Circuit 3](images/enigmas-circuit-3.png)\n"
   ]
  },
  {
   "cell_type": "markdown",
   "id": "1988d50a-aedd-4a9f-92bf-e156025c5c1b",
   "metadata": {},
   "source": [
    "### Exercise 4 \n",
    "\n",
    "Below we have provided the full circut, but taken out a handful of the gates. It's your job to fill those gates back in, and make your circuit mirror the correct one shown above.\n",
    "\n",
    "NOTE - We did not remove any of the barriers, you do not need to worry about those. "
   ]
  },
  {
   "cell_type": "code",
   "execution_count": null,
   "id": "1ff7b278-06a3-42e3-be95-1c7412500565",
   "metadata": {
    "tags": []
   },
   "outputs": [],
   "source": [
    "from qiskit import QuantumCircuit\n",
    "\n",
    "qc = QuantumCircuit(3, 3)\n",
    "\n",
    "\n",
    "## in the code below, fill in the missing gates. Run the cell to see a drawing of the current circuit ##\n",
    "\n",
    "qc.h(0)\n",
    "qc.h(2)\n",
    "qc.cx(0, 1)\n",
    "qc.barrier(0, 1, 2)\n",
    "qc.cx(2, 1)\n",
    "qc.x(2)\n",
    "qc.cx(2, 0)\n",
    "qc.x(2)\n",
    "qc.barrier(0, 1, 2)\n",
    "qc.swap(0, 1)\n",
    "qc.x(1)\n",
    "qc.cx(2, 1)\n",
    "qc.x(0)\n",
    "qc.x(2)\n",
    "qc.cx(2, 0)\n",
    "qc.x(2)\n",
    "\n",
    "## Do not change any of the code below this line ##\n",
    "\n",
    "\n",
    "answer5 = qc\n",
    "qc.draw(output=\"mpl\")"
   ]
  },
  {
   "cell_type": "code",
   "execution_count": null,
   "id": "3164df58-a703-4a46-9b13-0ed0f55d6778",
   "metadata": {},
   "outputs": [],
   "source": [
    "# Grader Cell: Run this to submit your answer\n",
    "\n",
    "from qc_grader.challenges.fall_fest23 import grade_ex3e\n",
    "\n",
    "grade_ex3e(answer5)"
   ]
  },
  {
   "cell_type": "code",
   "execution_count": null,
   "id": "a4b54773-3571-4dd0-9a1b-eb86c775ef9b",
   "metadata": {},
   "outputs": [],
   "source": [
    "# Grader for qc-grader repo https://github.com/qiskit-community/Quantum-Challenge-Grader/tree/main\n",
    "from qiskit.circuit import QuantumCircuit\n",
    "\n",
    "@typechecked\n",
    "def grade_ex3e(answer5: QuantumCircuit) -> None:\n",
    "    grade(answer5, 'ex3e', _challenge_id)"
   ]
  },
  {
   "cell_type": "code",
   "execution_count": null,
   "id": "ed888c30-47b8-4225-8fa6-5ab609e66c3b",
   "metadata": {},
   "outputs": [],
   "source": [
    "# Grader for qac-grader repo https://github.ibm.com/IBM-Q-Software/qac-grading\n",
    "from qiskit.quantum_info import Statevector\n",
    "from qiskit.circuit import QuantumCircuit\n",
    "\n",
    "@validation_function('ex3e')\n",
    "def grade_ex3e_validation(\n",
    "    answer5: QuantumCircuit\n",
    ") -> ValidationResult:\n",
    "    logger.info('Validating exercise 3e')\n",
    "    \n",
    "    if not answer1.num_qubits == 3:\n",
    "        return False, ('Circuit output does not match expected output with '\n",
    "                       'respect to the number of qubits.')\n",
    "    \n",
    "    test = QuantumCircuit(3)\n",
    "    \n",
    "    test.h(0)\n",
    "    test.h(2)\n",
    "    test.cx(0, 1)\n",
    "    test.barrier(0, 1, 2)\n",
    "    test.cx(2, 1)\n",
    "    test.x(2)\n",
    "    test.cx(2, 0)\n",
    "    test.x(2)\n",
    "    test.barrier(0, 1, 2)\n",
    "    test.swap(0, 1)\n",
    "    test.x(1)\n",
    "    test.cx(2, 1)\n",
    "    test.x(0)\n",
    "    test.x(2)\n",
    "    test.cx(2, 0)\n",
    "    test.x(2)\n",
    "\n",
    "    if Statevector.from_instruction(test).equiv(Statevector.from_instruction(answer5), rtol=1e-03, atol=1e-05):\n",
    "        return True, None\n",
    "    return False, (\"Circuit submitted does not match expected circuit\")"
   ]
  },
  {
   "cell_type": "markdown",
   "id": "b730d892-74e8-4397-8e86-4ea72564791b",
   "metadata": {
    "tags": []
   },
   "source": [
    "## Part 4: The Final Truth Table and Getting Results"
   ]
  },
  {
   "cell_type": "markdown",
   "id": "ddb79308-a1cc-4cff-9639-e5caf0bb9863",
   "metadata": {},
   "source": [
    "You now have a complete circuit, congratulations! Before we run it, let's update our truth table. \n",
    "\n",
    "The first table we created was answering the question \"where is the treasure?\" but as we've discussed, the correct question we should be asking based on the video is **\"which door would the other Guardian tell me not to open?\"**\n",
    "\n",
    "The results of asking that question are slightly different, and need to be written out to understand. \n",
    "\n",
    "| Who is Lying? | Guard on left says | Guard on right says | \n",
    "|:---:|:---:|:---:|\n",
    "| 0 | 0 | 0 | \n",
    "| 0 | 1 | 1 |\n",
    "| 1 | 0 | 0 | \n",
    "| 1 | 1 | 1 | \n",
    "\n",
    "You might be able to immedately spot the difference! In our first truth table, the two guards always said the opposite answer. However in our new table that answers the full question, the two guards always say the *same* answer! This ensures that no matter which Guardian we ask (remember, we only get to ask one), we will find out where the treasure is. \n"
   ]
  },
  {
   "cell_type": "code",
   "execution_count": null,
   "id": "1c6385bf-16fa-4b92-bc0c-d8f0b33dd41f",
   "metadata": {
    "tags": []
   },
   "outputs": [],
   "source": [
    "from qiskit import QuantumCircuit, Aer, transpile\n",
    "from qiskit.visualization import plot_histogram\n",
    "\n",
    "\n",
    "## This is the full version of the circuit. Run it to see the results ##\n",
    "\n",
    "quantCirc = QuantumCircuit(3, 3)\n",
    "\n",
    "quantCirc.h(0)\n",
    "quantCirc.h(2)\n",
    "quantCirc.cx(0, 1)\n",
    "quantCirc.barrier(0, 1, 2)\n",
    "quantCirc.cx(2, 1)\n",
    "quantCirc.x(2)\n",
    "quantCirc.cx(2, 0)\n",
    "quantCirc.x(2)\n",
    "quantCirc.barrier(0, 1, 2)\n",
    "quantCirc.swap(0, 1)\n",
    "quantCirc.x(1)\n",
    "quantCirc.cx(2, 1)\n",
    "quantCirc.x(0)\n",
    "quantCirc.x(2)\n",
    "quantCirc.cx(2, 0)\n",
    "quantCirc.x(2)\n",
    "\n",
    "# Execute the circuit and draw the histogram\n",
    "\n",
    "measured_qc = quantCirc.measure_all(inplace=False)\n",
    "backend = Aer.get_backend('qasm_simulator') # the device to run on\n",
    "result = backend.run(transpile(measured_qc, backend), shots=1024).result()\n",
    "counts  = result.get_counts(measured_qc)\n",
    "plot_histogram(counts)"
   ]
  },
  {
   "cell_type": "markdown",
   "id": "bdf9778d-1d70-4b7f-92ed-e76d6f0c9ae2",
   "metadata": {},
   "source": [
    "## Congratulations!\n",
    "\n",
    "You've made it to the end of the first lab! Now that you know a little bit about Qiskit, it is time to move onto the next lab and learn more. Enjoy the Qiskit Fall Fest. Good luck!"
   ]
  }
 ],
 "metadata": {
  "kernelspec": {
   "display_name": "Python 3 (ipykernel)",
   "language": "python",
   "name": "python3"
  },
  "language_info": {
   "codemirror_mode": {
    "name": "ipython",
    "version": 3
   },
   "file_extension": ".py",
   "mimetype": "text/x-python",
   "name": "python",
   "nbconvert_exporter": "python",
   "pygments_lexer": "ipython3",
   "version": "3.9.16"
  },
  "widgets": {
   "application/vnd.jupyter.widget-state+json": {
    "state": {},
    "version_major": 2,
    "version_minor": 0
   }
  }
 },
 "nbformat": 4,
 "nbformat_minor": 5
}
